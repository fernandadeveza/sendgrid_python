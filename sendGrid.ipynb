{
 "cells": [
  {
   "cell_type": "code",
   "execution_count": 31,
   "metadata": {},
   "outputs": [],
   "source": [
    "import os\n",
    "from sendgrid import SendGridAPIClient\n",
    "from sendgrid.helpers.mail import (Mail, Attachment, FileContent, FileType,\n",
    "                                   FileName, Disposition, ContentId) \n",
    "import codecs\n",
    "import base64\n"
   ]
  },
  {
   "cell_type": "markdown",
   "metadata": {},
   "source": [
    "# Pegando um file HTML que será o corpo do meu e-mail"
   ]
  },
  {
   "cell_type": "code",
   "execution_count": 33,
   "metadata": {},
   "outputs": [],
   "source": [
    "file = codecs.open(\"Bases/teste.html\", 'r').read()"
   ]
  },
  {
   "cell_type": "code",
   "execution_count": 34,
   "metadata": {},
   "outputs": [
    {
     "data": {
      "text/plain": [
       "'<html>\\n\\t<h3>seu nome: {nome}</h3>\\n\\t<h3>oto nome: {sobrenome}</h3>\\n</html>\\n'"
      ]
     },
     "execution_count": 34,
     "metadata": {},
     "output_type": "execute_result"
    }
   ],
   "source": [
    "file2"
   ]
  },
  {
   "cell_type": "markdown",
   "metadata": {},
   "source": [
    "# Atribuindo valores no HTML"
   ]
  },
  {
   "cell_type": "code",
   "execution_count": 35,
   "metadata": {},
   "outputs": [],
   "source": [
    "nome = 'Maria'\n",
    "sobrenome = 'Deveza'"
   ]
  },
  {
   "cell_type": "code",
   "execution_count": 36,
   "metadata": {},
   "outputs": [
    {
     "data": {
      "text/plain": [
       "'<html>\\n\\t<h3>seu nome: Maria</h3>\\n\\t<h3>oto nome: Deveza</h3>\\n</html>\\n'"
      ]
     },
     "execution_count": 36,
     "metadata": {},
     "output_type": "execute_result"
    }
   ],
   "source": [
    "file.format(sobrenome = sobrenome, nome=nome)"
   ]
  },
  {
   "cell_type": "markdown",
   "metadata": {},
   "source": [
    "# Montando o e-mail"
   ]
  },
  {
   "cell_type": "code",
   "execution_count": 38,
   "metadata": {},
   "outputs": [],
   "source": [
    "#Mensagem simples\n",
    "message = Mail(\n",
    "from_email='seu_email@gmail',\n",
    "to_emails=['email_destino@gmail.com'],\n",
    "subject='ESSE É MEU PRIMEIRO E-MAIL SENDGRID!!',\n",
    "html_content=file)\n",
    "\n",
    "#Mensagem com anexo\n",
    "file_path = 'Bases/teste_anexo.pdf'\n",
    "with open(file_path, 'rb') as f:\n",
    "    data = f.read()\n",
    "    f.close()\n",
    "encoded = base64.b64encode(data).decode()\n",
    "attachment = Attachment()\n",
    "attachment.file_content = FileContent(encoded)\n",
    "attachment.file_type = FileType('application/pdf') #Tipo do arquivo\n",
    "attachment.file_name = FileName('teste_anexo.pdf') #Nome que o arquivo vai\n",
    "attachment.disposition = Disposition('attachment') #Como seu anexo vai, ele pode ir em \"inline\" que eu acredito que seja no corpo do email (ainda não testei)\n",
    "attachment.content_id = ContentId('Example Content ID') #Id do seu anexo\n",
    "message.attachment = attachment"
   ]
  },
  {
   "cell_type": "markdown",
   "metadata": {},
   "source": [
    "# Enviando o E-mail "
   ]
  },
  {
   "cell_type": "code",
   "execution_count": 28,
   "metadata": {},
   "outputs": [
    {
     "name": "stdout",
     "output_type": "stream",
     "text": [
      "202\n",
      "b''\n",
      "Server: nginx\n",
      "Date: Fri, 08 May 2020 13:56:08 GMT\n",
      "Content-Length: 0\n",
      "Connection: close\n",
      "X-Message-Id: B9td6yUiSnKwELECZ_ctIw\n",
      "Access-Control-Allow-Origin: https://sendgrid.api-docs.io\n",
      "Access-Control-Allow-Methods: POST\n",
      "Access-Control-Allow-Headers: Authorization, Content-Type, On-behalf-of, x-sg-elas-acl\n",
      "Access-Control-Max-Age: 600\n",
      "X-No-CORS-Reason: https://sendgrid.com/docs/Classroom/Basics/API/cors.html\n",
      "\n",
      "\n"
     ]
    }
   ],
   "source": [
    "try:\n",
    "    #Pode substituir SendGridAPIClient('chave')\n",
    "    #Dessa forma ele pega o que está na variavel SENDGRID_API_KEY no seu computador\n",
    "    sg = SendGridAPIClient(os.environ.get('SENDGRID_API_KEY'))  \n",
    "    response = sg.send(message)\n",
    "    print(response.status_code)\n",
    "    print(response.body)\n",
    "    print(response.headers)\n",
    "except Exception as e:\n",
    "    print(e)\n",
    "    print(e.body)"
   ]
  }
 ],
 "metadata": {
  "kernelspec": {
   "display_name": "Python 3",
   "language": "python",
   "name": "python3"
  },
  "language_info": {
   "codemirror_mode": {
    "name": "ipython",
    "version": 3
   },
   "file_extension": ".py",
   "mimetype": "text/x-python",
   "name": "python",
   "nbconvert_exporter": "python",
   "pygments_lexer": "ipython3",
   "version": "3.7.3"
  }
 },
 "nbformat": 4,
 "nbformat_minor": 4
}
